{
 "cells": [
  {
   "cell_type": "code",
   "execution_count": 13,
   "metadata": {
    "id": "zPoduHPzY8gn"
   },
   "outputs": [],
   "source": [
    "import os\n",
    "import tensorflow as tf\n",
    "import numpy as np\n",
    "import pandas as pd\n",
    "\n",
    "from sklearn.model_selection import train_test_split\n",
    "\n",
    "from tensorflow.keras.preprocessing.image import ImageDataGenerator\n",
    "from tensorflow.keras.models import Sequential\n",
    "from tensorflow.keras.layers import Dense, Flatten, Dropout,Conv2D,MaxPooling2D\n",
    "from tensorflow.keras.applications import InceptionV3\n",
    "from tensorflow.keras.optimizers import Adam\n",
    "\n",
    "from keras.layers import GlobalAveragePooling2D"
   ]
  },
  {
   "cell_type": "code",
   "execution_count": 14,
   "metadata": {
    "colab": {
     "base_uri": "https://localhost:8080/"
    },
    "id": "Nx3679RWZCmE",
    "outputId": "5e5799e2-e166-429d-dcba-956fa46fe0bd"
   },
   "outputs": [
    {
     "name": "stdout",
     "output_type": "stream",
     "text": [
      "['Cutting Weevil', 'Die Back', 'Healthy', 'Powdery Mildew', 'Unhealthy']\n"
     ]
    }
   ],
   "source": [
    "data_dir = 'mango_3/' #Add full path to dataset\n",
    "filepaths = []\n",
    "labels = []\n",
    "\n",
    "dir_names = os.listdir(data_dir)\n",
    "print(dir_names)\n",
    "\n",
    "for dir in dir_names:\n",
    "    dir_path = os.path.join(data_dir, dir)\n",
    "    filelist = os.listdir(dir_path)\n",
    "    for file in filelist:\n",
    "        fpath = os.path.join(dir_path, file)\n",
    "        filepaths.append(fpath)\n",
    "        labels.append(dir)\n",
    "\n",
    "# Concatenate data paths with labels into one dataframe\n",
    "file_name_series = pd.Series(filepaths, name= 'filepaths')\n",
    "labels_series = pd.Series(labels, name='labels')\n",
    "df = pd.concat([file_name_series, labels_series], axis= 1)"
   ]
  },
  {
   "cell_type": "code",
   "execution_count": 15,
   "metadata": {
    "id": "U1ZCv8AxZJpj"
   },
   "outputs": [],
   "source": [
    "df.to_csv('mango.csv')\n",
    "# df = pd.read_excel('/content/binary-class.xlsx')"
   ]
  },
  {
   "cell_type": "code",
   "execution_count": 16,
   "metadata": {
    "id": "bw3Ockt6hcx2"
   },
   "outputs": [],
   "source": [
    "# filter = df['labels']=='Healthy'\n",
    "# df_h = df[filter]\n",
    "# df_h\n",
    "# df_uh = df[~filter]\n",
    "# df_uh = df_uh.sample(500)\n",
    "# df = pd.concat([df_h,df_uh],axis=0)\n",
    "# df.shape"
   ]
  },
  {
   "cell_type": "code",
   "execution_count": 17,
   "metadata": {
    "colab": {
     "base_uri": "https://localhost:8080/"
    },
    "id": "oQMm4hB6ZXdJ",
    "outputId": "d78c2ef0-9abd-47b0-e16e-ce81af15ef49"
   },
   "outputs": [
    {
     "data": {
      "text/plain": [
       "((3200, 2), (400, 2), (400, 2))"
      ]
     },
     "execution_count": 17,
     "metadata": {},
     "output_type": "execute_result"
    }
   ],
   "source": [
    "train_df, dummy_df = train_test_split(df,  train_size= 0.8, shuffle= True, random_state= 123)\n",
    "valid_df, test_df = train_test_split(dummy_df,  train_size= 0.5, shuffle= True, random_state= 123)\n",
    "train_df.shape, valid_df.shape,test_df.shape"
   ]
  },
  {
   "cell_type": "code",
   "execution_count": 18,
   "metadata": {
    "id": "Y5HeyJlDZgZ8"
   },
   "outputs": [],
   "source": [
    "# Set the image dimensions and batch size\n",
    "img_width, img_height = 224, 224\n",
    "batch_size = 16\n",
    "\n",
    "# Define the data generators for the train and test sets\n",
    "tr_gen = ImageDataGenerator(\n",
    "    rescale=1./255,         # Scale the pixel values from 0-255 to 0-1\n",
    "    rotation_range=40,      # Randomly rotate the images up to 40 degrees\n",
    "    width_shift_range=0.2,  # Randomly shift the images horizontally up to 20% of the width\n",
    "    height_shift_range=0.2, # Randomly shift the images vertically up to 20% of the height\n",
    "    shear_range=0.2,       # Randomly apply shear transformations\n",
    "    zoom_range=0.2,         # Randomly zoom in on the images\n",
    "    horizontal_flip=True,   # Randomly flip the images horizontally\n",
    "    fill_mode='nearest')    # Fill any empty pixels with the nearest available pixel\n",
    "\n",
    "\n",
    "ts_gen = ImageDataGenerator(rescale=1./255)"
   ]
  },
  {
   "cell_type": "code",
   "execution_count": 19,
   "metadata": {
    "colab": {
     "base_uri": "https://localhost:8080/"
    },
    "id": "lKEOFa4gZjHy",
    "outputId": "d47242ca-4355-4243-9b5a-1e1e1cc492b8"
   },
   "outputs": [
    {
     "name": "stdout",
     "output_type": "stream",
     "text": [
      "Found 3200 validated image filenames belonging to 5 classes.\n",
      "Found 400 validated image filenames belonging to 5 classes.\n",
      "Found 400 validated image filenames belonging to 5 classes.\n"
     ]
    }
   ],
   "source": [
    "train_gen = tr_gen.flow_from_dataframe(train_df,\n",
    "                                       x_col= 'filepaths',\n",
    "                                       y_col= 'labels',\n",
    "                                       target_size= (img_width, img_height),\n",
    "                                       class_mode= 'categorical',\n",
    "                                       color_mode= 'rgb',\n",
    "                                       shuffle= True,\n",
    "                                       batch_size= batch_size)\n",
    "\n",
    "valid_gen = ts_gen.flow_from_dataframe(valid_df,\n",
    "                                      x_col= 'filepaths',\n",
    "                                      y_col= 'labels',\n",
    "                                      target_size= (img_width, img_height),\n",
    "                                      class_mode= 'categorical',\n",
    "                                      color_mode= 'rgb',\n",
    "                                      shuffle= True,\n",
    "                                      batch_size= batch_size)\n",
    "\n",
    "test_gen = ts_gen.flow_from_dataframe(test_df,\n",
    "                                      x_col= 'filepaths',\n",
    "                                      y_col= 'labels',\n",
    "                                      target_size= (img_width, img_height),\n",
    "                                      class_mode= 'categorical',\n",
    "                                      color_mode= 'rgb',\n",
    "                                      shuffle= True,\n",
    "                                      batch_size= batch_size)\n"
   ]
  },
  {
   "cell_type": "code",
   "execution_count": 20,
   "metadata": {
    "colab": {
     "base_uri": "https://localhost:8080/"
    },
    "id": "SAOMVzpnZldJ",
    "outputId": "9df61f47-55d3-44a8-ec34-26a866b7ab0b"
   },
   "outputs": [
    {
     "name": "stdout",
     "output_type": "stream",
     "text": [
      "No GPU, using /device:CPU:0.\n"
     ]
    }
   ],
   "source": [
    "device_name = tf.test.gpu_device_name()\n",
    "if len(device_name) > 0:\n",
    "    print(\"Found GPU at: {}\".format(device_name))\n",
    "else:\n",
    "    device_name = \"/device:CPU:0\"\n",
    "    print(\"No GPU, using {}.\".format(device_name))"
   ]
  },
  {
   "cell_type": "code",
   "execution_count": 21,
   "metadata": {
    "colab": {
     "base_uri": "https://localhost:8080/"
    },
    "id": "oWqZ7ZlqZo7u",
    "outputId": "6cb909af-b49b-4426-f32d-511d85f6d8bc"
   },
   "outputs": [],
   "source": [
    "with tf.device(device_name):\n",
    "\n",
    "    base_model = InceptionV3(\n",
    "      weights='imagenet',\n",
    "      include_top=False,\n",
    "      input_shape=(img_width, img_height, 3))\n",
    "    for layer in base_model.layers:\n",
    "      layer.trainable = False\n",
    "\n",
    "    model = Sequential()\n",
    "    model.add(base_model)\n",
    "    model.add(GlobalAveragePooling2D())\n",
    "    model.add(Dense(128, activation='relu'))\n",
    "    # model.add(Dropout(0.7))\n",
    "    model.add(Dense(5, activation='sigmoid'))        # Create a TensorFlow model.\n",
    "\n",
    "    opt = Adam(learning_rate=0.0001)\n",
    "    model.compile(\n",
    "    optimizer=opt,\n",
    "    loss= \"binary_crossentropy\",\n",
    "    metrics=['accuracy'])\n",
    "    # Compile the model on the GPU.\n",
    "    # Once the model has been created and compiled on the GPU, it can be\n",
    "    # trained as per usual.\n",
    "from keras.callbacks import EarlyStopping\n",
    "early_stop = EarlyStopping(patience=10, verbose=1)"
   ]
  },
  {
   "cell_type": "code",
   "execution_count": 22,
   "metadata": {
    "id": "0-Udbo_QpJQ1"
   },
   "outputs": [],
   "source": [
    "model.compile(\n",
    "    optimizer='adamax',\n",
    "    loss= \"binary_crossentropy\",\n",
    "    metrics=['accuracy'])\n",
    "    # Compile the model on the GPU.\n",
    "    # Once the model has been created and compiled on the GPU, it can be\n",
    "    # trained as per usual.\n",
    "from keras.callbacks import EarlyStopping\n",
    "early_stop = EarlyStopping(patience=10, verbose=1)"
   ]
  },
  {
   "cell_type": "code",
   "execution_count": 23,
   "metadata": {
    "colab": {
     "base_uri": "https://localhost:8080/"
    },
    "id": "Zt3DU20oZr7p",
    "outputId": "9f7176e6-904e-42c8-ce18-262790903685"
   },
   "outputs": [
    {
     "name": "stdout",
     "output_type": "stream",
     "text": [
      "Epoch 1/30\n",
      "200/200 [==============================] - 137s 665ms/step - loss: 0.1324 - accuracy: 0.8944 - val_loss: 0.0645 - val_accuracy: 0.9600\n",
      "Epoch 2/30\n",
      "200/200 [==============================] - 222s 1s/step - loss: 0.0650 - accuracy: 0.9494 - val_loss: 0.0478 - val_accuracy: 0.9700\n",
      "Epoch 3/30\n",
      "200/200 [==============================] - 235s 1s/step - loss: 0.0488 - accuracy: 0.9644 - val_loss: 0.0403 - val_accuracy: 0.9650\n",
      "Epoch 4/30\n",
      "200/200 [==============================] - 255s 1s/step - loss: 0.0434 - accuracy: 0.9681 - val_loss: 0.0295 - val_accuracy: 0.9825\n",
      "Epoch 5/30\n",
      "200/200 [==============================] - 243s 1s/step - loss: 0.0374 - accuracy: 0.9744 - val_loss: 0.0336 - val_accuracy: 0.9700\n",
      "Epoch 6/30\n",
      "200/200 [==============================] - 225s 1s/step - loss: 0.0336 - accuracy: 0.9756 - val_loss: 0.0296 - val_accuracy: 0.9750\n",
      "Epoch 7/30\n",
      "200/200 [==============================] - 273s 1s/step - loss: 0.0322 - accuracy: 0.9741 - val_loss: 0.0333 - val_accuracy: 0.9700\n",
      "Epoch 8/30\n",
      "200/200 [==============================] - 409s 2s/step - loss: 0.0307 - accuracy: 0.9766 - val_loss: 0.0225 - val_accuracy: 0.9875\n",
      "Epoch 9/30\n",
      "200/200 [==============================] - 404s 2s/step - loss: 0.0275 - accuracy: 0.9781 - val_loss: 0.0254 - val_accuracy: 0.9875\n",
      "Epoch 10/30\n",
      "200/200 [==============================] - 389s 2s/step - loss: 0.0272 - accuracy: 0.9791 - val_loss: 0.0201 - val_accuracy: 0.9900\n",
      "Epoch 11/30\n",
      "200/200 [==============================] - 406s 2s/step - loss: 0.0229 - accuracy: 0.9847 - val_loss: 0.0212 - val_accuracy: 0.9875\n",
      "Epoch 12/30\n",
      "200/200 [==============================] - 409s 2s/step - loss: 0.0227 - accuracy: 0.9853 - val_loss: 0.0211 - val_accuracy: 0.9875\n",
      "Epoch 13/30\n",
      "200/200 [==============================] - 365s 2s/step - loss: 0.0205 - accuracy: 0.9834 - val_loss: 0.0208 - val_accuracy: 0.9900\n",
      "Epoch 14/30\n",
      "200/200 [==============================] - 413s 2s/step - loss: 0.0217 - accuracy: 0.9844 - val_loss: 0.0244 - val_accuracy: 0.9775\n",
      "Epoch 15/30\n",
      "200/200 [==============================] - 415s 2s/step - loss: 0.0260 - accuracy: 0.9781 - val_loss: 0.0159 - val_accuracy: 0.9900\n",
      "Epoch 16/30\n",
      "200/200 [==============================] - 387s 2s/step - loss: 0.0200 - accuracy: 0.9850 - val_loss: 0.0211 - val_accuracy: 0.9850\n",
      "Epoch 17/30\n",
      "200/200 [==============================] - 414s 2s/step - loss: 0.0204 - accuracy: 0.9837 - val_loss: 0.0165 - val_accuracy: 0.9875\n",
      "Epoch 18/30\n",
      "200/200 [==============================] - 410s 2s/step - loss: 0.0221 - accuracy: 0.9812 - val_loss: 0.0194 - val_accuracy: 0.9850\n",
      "Epoch 19/30\n",
      "200/200 [==============================] - 414s 2s/step - loss: 0.0215 - accuracy: 0.9825 - val_loss: 0.0163 - val_accuracy: 0.9900\n",
      "Epoch 20/30\n",
      "200/200 [==============================] - 412s 2s/step - loss: 0.0168 - accuracy: 0.9881 - val_loss: 0.0167 - val_accuracy: 0.9900\n",
      "Epoch 21/30\n",
      "200/200 [==============================] - 365s 2s/step - loss: 0.0179 - accuracy: 0.9866 - val_loss: 0.0209 - val_accuracy: 0.9850\n",
      "Epoch 22/30\n",
      "200/200 [==============================] - 229s 1s/step - loss: 0.0181 - accuracy: 0.9856 - val_loss: 0.0163 - val_accuracy: 0.9900\n",
      "Epoch 23/30\n",
      "200/200 [==============================] - 230s 1s/step - loss: 0.0160 - accuracy: 0.9881 - val_loss: 0.0141 - val_accuracy: 0.9900\n",
      "Epoch 24/30\n",
      "200/200 [==============================] - 244s 1s/step - loss: 0.0170 - accuracy: 0.9869 - val_loss: 0.0157 - val_accuracy: 0.9900\n",
      "Epoch 25/30\n",
      "200/200 [==============================] - 246s 1s/step - loss: 0.0158 - accuracy: 0.9866 - val_loss: 0.0146 - val_accuracy: 0.9900\n",
      "Epoch 26/30\n",
      "200/200 [==============================] - 244s 1s/step - loss: 0.0125 - accuracy: 0.9928 - val_loss: 0.0149 - val_accuracy: 0.9925\n",
      "Epoch 27/30\n",
      "200/200 [==============================] - 243s 1s/step - loss: 0.0173 - accuracy: 0.9884 - val_loss: 0.0184 - val_accuracy: 0.9850\n",
      "Epoch 28/30\n",
      "200/200 [==============================] - 241s 1s/step - loss: 0.0172 - accuracy: 0.9862 - val_loss: 0.0127 - val_accuracy: 0.9900\n",
      "Epoch 29/30\n",
      "200/200 [==============================] - 244s 1s/step - loss: 0.0155 - accuracy: 0.9878 - val_loss: 0.0152 - val_accuracy: 0.9900\n",
      "Epoch 30/30\n",
      "200/200 [==============================] - 236s 1s/step - loss: 0.0151 - accuracy: 0.9878 - val_loss: 0.0137 - val_accuracy: 0.9875\n",
      "Wall time: 2h 37min 29s\n"
     ]
    }
   ],
   "source": [
    "%%time\n",
    "history = model.fit(\n",
    "    train_gen,\n",
    "    epochs=30,\n",
    "    validation_data=test_gen,\n",
    "    callbacks=[early_stop],\n",
    "    verbose=1)"
   ]
  },
  {
   "cell_type": "code",
   "execution_count": 24,
   "metadata": {
    "id": "UtCc7mAMtC14"
   },
   "outputs": [
    {
     "name": "stdout",
     "output_type": "stream",
     "text": [
      "200/200 [==============================] - 224s 1s/step - loss: 0.0141 - accuracy: 0.9894\n",
      "Train accuracy: 0.9893749952316284\n",
      "25/25 [==============================] - 21s 831ms/step - loss: 0.0205 - accuracy: 0.9875\n",
      "Valid accuracy: 0.987500011920929\n",
      "25/25 [==============================] - 21s 829ms/step - loss: 0.0137 - accuracy: 0.9875\n",
      "Test accuracy: 0.987500011920929\n"
     ]
    }
   ],
   "source": [
    "loss, accuracy = model.evaluate(train_gen)\n",
    "print('Train accuracy:', accuracy)\n",
    "loss, accuracy = model.evaluate(valid_gen)\n",
    "print(\"Valid accuracy:\", accuracy)\n",
    "loss, accuracy = model.evaluate(test_gen)\n",
    "print('Test accuracy:', accuracy)\n"
   ]
  },
  {
   "cell_type": "code",
   "execution_count": 25,
   "metadata": {
    "id": "C4c2oZEk6OMj"
   },
   "outputs": [
    {
     "data": {
      "image/png": "[encoded data removed]",
      "text/plain": [
       "<Figure size 1200x400 with 2 Axes>"
      ]
     },
     "metadata": {},
     "output_type": "display_data"
    },
    {
     "name": "stdout",
     "output_type": "stream",
     "text": [
      "Wall time: 3.78 s\n"
     ]
    }
   ],
   "source": [
    "%%time\n",
    "import matplotlib.pyplot as plt\n",
    "\n",
    "tr_acc = history.history['accuracy']\n",
    "tr_loss = history.history['loss']\n",
    "val_acc = history.history['val_accuracy']\n",
    "val_loss = history.history['val_loss']\n",
    "index_loss = np.argmin(val_loss)\n",
    "val_lowest = val_loss[index_loss]\n",
    "index_acc = np.argmax(val_acc)\n",
    "acc_highest = val_acc[index_acc]\n",
    "Epochs = [i+1 for i in range(len(tr_acc))]\n",
    "loss_label = f'best epoch= {str(index_loss + 1)}'\n",
    "acc_label = f'best epoch= {str(index_acc + 1)}'\n",
    "\n",
    "# Plot training history\n",
    "plt.figure(figsize= (12, 4))\n",
    "#plt.style.use('fivethirtyeight')\n",
    "\n",
    "plt.subplot(1, 2, 1)\n",
    "plt.plot(Epochs, tr_loss, 'r', label= 'Training loss')\n",
    "plt.plot(Epochs, val_loss, 'g', label= 'Validation loss')\n",
    "plt.scatter(index_loss + 1, val_lowest,  c= 'blue', label= loss_label)\n",
    "plt.title('Training and Validation Loss')\n",
    "plt.xlabel('Epochs')\n",
    "plt.ylabel('Loss')\n",
    "plt.legend()\n",
    "\n",
    "plt.subplot(1, 2, 2)\n",
    "plt.plot(Epochs, tr_acc, 'r', label= 'Training Accuracy')\n",
    "plt.plot(Epochs, val_acc, 'g', label= 'Validation Accuracy')\n",
    "plt.scatter(index_acc + 1 , acc_highest, c= 'blue', label= acc_label)\n",
    "plt.title('Training and Validation Accuracy')\n",
    "plt.xlabel('Epochs')\n",
    "plt.ylabel('Accuracy')\n",
    "plt.legend()\n",
    "#plt.subplot_tool()\n",
    "plt.subplots_adjust(left=0.1,\n",
    "                    bottom=0.1,\n",
    "                    right=0.9,\n",
    "                    top=0.9,\n",
    "                    wspace=0.4,\n",
    "                    hspace=0.4)\n",
    "#plt.tight_layout(pad=20.0)\n",
    "plt.show()"
   ]
  }
 ],
 "metadata": {
  "accelerator": "GPU",
  "colab": {
   "gpuType": "T4",
   "provenance": []
  },
  "kernelspec": {
   "display_name": "Python 3 (ipykernel)",
   "language": "python",
   "name": "python3"
  },
  "language_info": {
   "codemirror_mode": {
    "name": "ipython",
    "version": 3
   },
   "file_extension": ".py",
   "mimetype": "text/x-python",
   "name": "python",
   "nbconvert_exporter": "python",
   "pygments_lexer": "ipython3",
   "version": "3.7.9"
  }
 },
 "nbformat": 4,
 "nbformat_minor": 1
}
