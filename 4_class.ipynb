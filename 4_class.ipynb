{
 "cells": [
  {
   "cell_type": "code",
   "execution_count": 2,
   "id": "cf6c2633",
   "metadata": {},
   "outputs": [],
   "source": [
    "import os\n",
    "import tensorflow as tf\n",
    "import numpy as np\n",
    "import pandas as pd\n",
    "\n",
    "from sklearn.model_selection import train_test_split\n",
    "\n",
    "from tensorflow.keras.preprocessing.image import ImageDataGenerator\n",
    "from tensorflow.keras.models import Sequential\n",
    "from tensorflow.keras.layers import Dense, Flatten, Dropout,Conv2D,MaxPooling2D\n",
    "from tensorflow.keras.applications import InceptionV3\n",
    "from tensorflow.keras.optimizers import Adam\n",
    "\n",
    "from keras.layers import GlobalAveragePooling2D"
   ]
  },
  {
   "cell_type": "code",
   "execution_count": 3,
   "id": "631ee3e6",
   "metadata": {},
   "outputs": [
    {
     "name": "stdout",
     "output_type": "stream",
     "text": [
      "['Die Back', 'Healthy', 'Powdery Mildew', 'Unhealthy']\n"
     ]
    }
   ],
   "source": [
    "data_dir = 'mango_2/' #Add full path to dataset\n",
    "filepaths = []\n",
    "labels = []\n",
    "\n",
    "dir_names = os.listdir(data_dir)\n",
    "print(dir_names)\n",
    "\n",
    "for dir in dir_names:\n",
    "    dir_path = os.path.join(data_dir, dir)\n",
    "    filelist = os.listdir(dir_path)\n",
    "    for file in filelist:\n",
    "        fpath = os.path.join(dir_path, file)\n",
    "        filepaths.append(fpath)\n",
    "        labels.append(dir)\n",
    "\n",
    "# Concatenate data paths with labels into one dataframe\n",
    "file_name_series = pd.Series(filepaths, name= 'filepaths')\n",
    "labels_series = pd.Series(labels, name='labels')\n",
    "df = pd.concat([file_name_series, labels_series], axis= 1)"
   ]
  },
  {
   "cell_type": "code",
   "execution_count": 4,
   "id": "12b4b8f8",
   "metadata": {},
   "outputs": [
    {
     "data": {
      "text/plain": [
       "(4000, 2)"
      ]
     },
     "execution_count": 4,
     "metadata": {},
     "output_type": "execute_result"
    }
   ],
   "source": [
    "# df.to_csv('mango.csv')\n",
    "# df = pd.read_csv('mango.csv')\n",
    "df.shape"
   ]
  },
  {
   "cell_type": "code",
   "execution_count": 5,
   "id": "aa33f470",
   "metadata": {},
   "outputs": [
    {
     "data": {
      "text/plain": [
       "((3200, 2), (400, 2), (400, 2))"
      ]
     },
     "execution_count": 5,
     "metadata": {},
     "output_type": "execute_result"
    }
   ],
   "source": [
    "train_df, dummy_df = train_test_split(df,  train_size= 0.8, shuffle= True, random_state= 123)\n",
    "valid_df, test_df = train_test_split(dummy_df,  train_size= 0.5, shuffle= True, random_state= 123)\n",
    "train_df.shape, valid_df.shape,test_df.shape"
   ]
  },
  {
   "cell_type": "code",
   "execution_count": 6,
   "id": "b46111e7",
   "metadata": {},
   "outputs": [],
   "source": [
    "# Set the image dimensions and batch size\n",
    "img_width, img_height = 224, 224\n",
    "batch_size = 16\n",
    "\n",
    "# Define the data generators for the train and test sets\n",
    "tr_gen = ImageDataGenerator(\n",
    "    rescale=1./255,         # Scale the pixel values from 0-255 to 0-1\n",
    "    rotation_range=40,      # Randomly rotate the images up to 40 degrees\n",
    "    width_shift_range=0.2,  # Randomly shift the images horizontally up to 20% of the width\n",
    "    height_shift_range=0.2, # Randomly shift the images vertically up to 20% of the height\n",
    "    shear_range=0.2,       # Randomly apply shear transformations\n",
    "    zoom_range=0.2,         # Randomly zoom in on the images\n",
    "    horizontal_flip=True,   # Randomly flip the images horizontally\n",
    "    fill_mode='nearest')    # Fill any empty pixels with the nearest available pixel\n",
    "\n",
    "\n",
    "ts_gen = ImageDataGenerator(rescale=1./255)"
   ]
  },
  {
   "cell_type": "code",
   "execution_count": 7,
   "id": "963e0f05",
   "metadata": {},
   "outputs": [
    {
     "name": "stdout",
     "output_type": "stream",
     "text": [
      "Found 3200 validated image filenames belonging to 4 classes.\n",
      "Found 400 validated image filenames belonging to 4 classes.\n",
      "Found 400 validated image filenames belonging to 4 classes.\n"
     ]
    }
   ],
   "source": [
    "train_gen = tr_gen.flow_from_dataframe(train_df,\n",
    "                                       x_col= 'filepaths',\n",
    "                                       y_col= 'labels',\n",
    "                                       target_size= (img_width, img_height),\n",
    "                                       class_mode= 'categorical',\n",
    "                                       color_mode= 'rgb',\n",
    "                                       shuffle= True,\n",
    "                                       batch_size= batch_size)\n",
    "\n",
    "valid_gen = ts_gen.flow_from_dataframe(valid_df,\n",
    "                                      x_col= 'filepaths',\n",
    "                                      y_col= 'labels',\n",
    "                                      target_size= (img_width, img_height),\n",
    "                                      class_mode= 'categorical',\n",
    "                                      color_mode= 'rgb',\n",
    "                                      shuffle= True,\n",
    "                                      batch_size= batch_size)\n",
    "\n",
    "test_gen = ts_gen.flow_from_dataframe(test_df,\n",
    "                                      x_col= 'filepaths',\n",
    "                                      y_col= 'labels',\n",
    "                                      target_size= (img_width, img_height),\n",
    "                                      class_mode= 'categorical',\n",
    "                                      color_mode= 'rgb',\n",
    "                                      shuffle= True,\n",
    "                                      batch_size= batch_size)\n"
   ]
  },
  {
   "cell_type": "code",
   "execution_count": 8,
   "id": "f577fd05",
   "metadata": {},
   "outputs": [
    {
     "name": "stdout",
     "output_type": "stream",
     "text": [
      "No GPU, using /device:CPU:0.\n"
     ]
    }
   ],
   "source": [
    "device_name = tf.test.gpu_device_name()\n",
    "if len(device_name) > 0:\n",
    "    print(\"Found GPU at: {}\".format(device_name))\n",
    "else:\n",
    "    device_name = \"/device:CPU:0\"\n",
    "    print(\"No GPU, using {}.\".format(device_name))"
   ]
  },
  {
   "cell_type": "code",
   "execution_count": 9,
   "id": "c54db8bb",
   "metadata": {},
   "outputs": [],
   "source": [
    "with tf.device(device_name):\n",
    "\n",
    "    base_model = InceptionV3(\n",
    "      weights='imagenet',\n",
    "      include_top=False,\n",
    "      input_shape=(img_width, img_height, 3))\n",
    "    for layer in base_model.layers:\n",
    "      layer.trainable = False\n",
    "\n",
    "    model = Sequential()\n",
    "    model.add(base_model)\n",
    "    model.add(GlobalAveragePooling2D())\n",
    "    model.add(Dense(128, activation='relu'))\n",
    "    model.add(Dropout(0.5))\n",
    "    model.add(Dense(4, activation='sigmoid'))        # Create a TensorFlow model.\n",
    "\n",
    "    opt = Adam(learning_rate=0.0001)\n",
    "\n",
    "    model.compile(\n",
    "    optimizer=opt,\n",
    "    loss= \"binary_crossentropy\",\n",
    "    metrics=['accuracy'])\n",
    "    # Compile the model on the GPU.\n",
    "    # Once the model has been created and compiled on the GPU, it can be\n",
    "    # trained as per usual.\n",
    "\n",
    "from keras.callbacks import EarlyStopping\n",
    "early_stop = EarlyStopping(patience=10, verbose=1)"
   ]
  },
  {
   "cell_type": "code",
   "execution_count": 12,
   "id": "64fefcc6",
   "metadata": {},
   "outputs": [
    {
     "name": "stdout",
     "output_type": "stream",
     "text": [
      "Epoch 1/30\n",
      "200/200 [==============================] - 590s 3s/step - loss: 0.3245 - accuracy: 0.7453 - val_loss: 0.1743 - val_accuracy: 0.8675\n",
      "Epoch 2/30\n",
      "200/200 [==============================] - 569s 3s/step - loss: 0.1903 - accuracy: 0.8716 - val_loss: 0.1175 - val_accuracy: 0.9250\n",
      "Epoch 3/30\n",
      "200/200 [==============================] - 503s 3s/step - loss: 0.1498 - accuracy: 0.9034 - val_loss: 0.0885 - val_accuracy: 0.9550\n",
      "Epoch 4/30\n",
      "200/200 [==============================] - 529s 3s/step - loss: 0.1290 - accuracy: 0.9178 - val_loss: 0.0748 - val_accuracy: 0.9625\n",
      "Epoch 5/30\n",
      "200/200 [==============================] - 489s 2s/step - loss: 0.1144 - accuracy: 0.9300 - val_loss: 0.0691 - val_accuracy: 0.9600\n",
      "Epoch 6/30\n",
      "200/200 [==============================] - 371s 2s/step - loss: 0.0973 - accuracy: 0.9441 - val_loss: 0.0580 - val_accuracy: 0.9725\n",
      "Epoch 7/30\n",
      "200/200 [==============================] - 355s 2s/step - loss: 0.0893 - accuracy: 0.9438 - val_loss: 0.0574 - val_accuracy: 0.9675\n",
      "Epoch 8/30\n",
      "200/200 [==============================] - 300s 1s/step - loss: 0.0890 - accuracy: 0.9453 - val_loss: 0.0509 - val_accuracy: 0.9775\n",
      "Epoch 9/30\n",
      "200/200 [==============================] - 259s 1s/step - loss: 0.0839 - accuracy: 0.9475 - val_loss: 0.0506 - val_accuracy: 0.9725\n",
      "Epoch 10/30\n",
      "200/200 [==============================] - 261s 1s/step - loss: 0.0727 - accuracy: 0.9578 - val_loss: 0.0433 - val_accuracy: 0.9750\n",
      "Epoch 11/30\n",
      "200/200 [==============================] - 260s 1s/step - loss: 0.0733 - accuracy: 0.9553 - val_loss: 0.0453 - val_accuracy: 0.9725\n",
      "Epoch 12/30\n",
      "200/200 [==============================] - 259s 1s/step - loss: 0.0687 - accuracy: 0.9606 - val_loss: 0.0382 - val_accuracy: 0.9850\n",
      "Epoch 13/30\n",
      "200/200 [==============================] - 234s 1s/step - loss: 0.0659 - accuracy: 0.9581 - val_loss: 0.0371 - val_accuracy: 0.9800\n",
      "Epoch 14/30\n",
      "200/200 [==============================] - 220s 1s/step - loss: 0.0619 - accuracy: 0.9634 - val_loss: 0.0360 - val_accuracy: 0.9800\n",
      "Epoch 15/30\n",
      "200/200 [==============================] - 211s 1s/step - loss: 0.0604 - accuracy: 0.9650 - val_loss: 0.0345 - val_accuracy: 0.9800\n",
      "Epoch 16/30\n",
      "200/200 [==============================] - 200s 1s/step - loss: 0.0589 - accuracy: 0.9666 - val_loss: 0.0316 - val_accuracy: 0.9875\n",
      "Epoch 17/30\n",
      "200/200 [==============================] - 196s 975ms/step - loss: 0.0526 - accuracy: 0.9709 - val_loss: 0.0322 - val_accuracy: 0.9850\n",
      "Epoch 18/30\n",
      "200/200 [==============================] - 195s 971ms/step - loss: 0.0545 - accuracy: 0.9672 - val_loss: 0.0288 - val_accuracy: 0.9875\n",
      "Epoch 19/30\n",
      "200/200 [==============================] - 194s 970ms/step - loss: 0.0490 - accuracy: 0.9737 - val_loss: 0.0293 - val_accuracy: 0.9875\n",
      "Epoch 20/30\n",
      "200/200 [==============================] - 199s 995ms/step - loss: 0.0459 - accuracy: 0.9725 - val_loss: 0.0286 - val_accuracy: 0.9900\n",
      "Epoch 21/30\n",
      "200/200 [==============================] - 210s 1s/step - loss: 0.0459 - accuracy: 0.9706 - val_loss: 0.0276 - val_accuracy: 0.9900\n",
      "Epoch 22/30\n",
      "200/200 [==============================] - 226s 1s/step - loss: 0.0478 - accuracy: 0.9703 - val_loss: 0.0282 - val_accuracy: 0.9875\n",
      "Epoch 23/30\n",
      "200/200 [==============================] - 225s 1s/step - loss: 0.0487 - accuracy: 0.9697 - val_loss: 0.0274 - val_accuracy: 0.9850\n",
      "Epoch 24/30\n",
      "200/200 [==============================] - 228s 1s/step - loss: 0.0428 - accuracy: 0.9731 - val_loss: 0.0274 - val_accuracy: 0.9875\n",
      "Epoch 25/30\n",
      "200/200 [==============================] - 230s 1s/step - loss: 0.0389 - accuracy: 0.9756 - val_loss: 0.0228 - val_accuracy: 0.9850\n",
      "Epoch 26/30\n",
      "200/200 [==============================] - 199s 992ms/step - loss: 0.0415 - accuracy: 0.9759 - val_loss: 0.0262 - val_accuracy: 0.9900\n",
      "Epoch 27/30\n",
      "200/200 [==============================] - 200s 998ms/step - loss: 0.0414 - accuracy: 0.9747 - val_loss: 0.0218 - val_accuracy: 0.9900\n",
      "Epoch 28/30\n",
      "200/200 [==============================] - 197s 982ms/step - loss: 0.0359 - accuracy: 0.9803 - val_loss: 0.0223 - val_accuracy: 0.9875\n",
      "Epoch 29/30\n",
      "200/200 [==============================] - 197s 981ms/step - loss: 0.0422 - accuracy: 0.9747 - val_loss: 0.0233 - val_accuracy: 0.9875\n",
      "Epoch 30/30\n",
      "200/200 [==============================] - 197s 981ms/step - loss: 0.0368 - accuracy: 0.9769 - val_loss: 0.0238 - val_accuracy: 0.9850\n",
      "Wall time: 2h 21min 43s\n"
     ]
    }
   ],
   "source": [
    "%%time\n",
    "history = model.fit(\n",
    "    train_gen,\n",
    "    epochs=30,\n",
    "    validation_data=test_gen,\n",
    "    callbacks=[early_stop],\n",
    "    verbose=1)"
   ]
  },
  {
   "cell_type": "code",
   "execution_count": 13,
   "id": "37f96bdd",
   "metadata": {},
   "outputs": [
    {
     "name": "stdout",
     "output_type": "stream",
     "text": [
      "200/200 [==============================] - 176s 878ms/step - loss: 0.0275 - accuracy: 0.9797\n",
      "Train accuracy: 0.979687511920929\n",
      "25/25 [==============================] - 19s 742ms/step - loss: 0.0260 - accuracy: 0.9825\n",
      "Valid accuracy: 0.9825000166893005\n",
      "25/25 [==============================] - 21s 838ms/step - loss: 0.0238 - accuracy: 0.9850\n",
      "Test accuracy: 0.9850000143051147\n"
     ]
    }
   ],
   "source": [
    "loss, accuracy = model.evaluate(train_gen)\n",
    "print('Train accuracy:', accuracy)\n",
    "loss, accuracy = model.evaluate(valid_gen)\n",
    "print(\"Valid accuracy:\", accuracy)\n",
    "loss, accuracy = model.evaluate(test_gen)\n",
    "print('Test accuracy:', accuracy)\n"
   ]
  },
  {
   "cell_type": "code",
   "execution_count": 14,
   "id": "bc3a8296",
   "metadata": {},
   "outputs": [
    {
     "data": {
      "image/png": "[encoded data removed]",
      "text/plain": [
       "<Figure size 1200x400 with 2 Axes>"
      ]
     },
     "metadata": {},
     "output_type": "display_data"
    },
    {
     "name": "stdout",
     "output_type": "stream",
     "text": [
      "Wall time: 5.64 s\n"
     ]
    }
   ],
   "source": [
    "%%time\n",
    "import matplotlib.pyplot as plt\n",
    "\n",
    "tr_acc = history.history['accuracy']\n",
    "tr_loss = history.history['loss']\n",
    "val_acc = history.history['val_accuracy']\n",
    "val_loss = history.history['val_loss']\n",
    "index_loss = np.argmin(val_loss)\n",
    "val_lowest = val_loss[index_loss]\n",
    "index_acc = np.argmax(val_acc)\n",
    "acc_highest = val_acc[index_acc]\n",
    "Epochs = [i+1 for i in range(len(tr_acc))]\n",
    "loss_label = f'best epoch= {str(index_loss + 1)}'\n",
    "acc_label = f'best epoch= {str(index_acc + 1)}'\n",
    "\n",
    "# Plot training history\n",
    "plt.figure(figsize= (12, 4))\n",
    "#plt.style.use('fivethirtyeight')\n",
    "\n",
    "plt.subplot(1, 2, 1)\n",
    "plt.plot(Epochs, tr_loss, 'r', label= 'Training loss')\n",
    "plt.plot(Epochs, val_loss, 'g', label= 'Validation loss')\n",
    "plt.scatter(index_loss + 1, val_lowest,  c= 'blue', label= loss_label)\n",
    "plt.title('Training and Validation Loss')\n",
    "plt.xlabel('Epochs')\n",
    "plt.ylabel('Loss')\n",
    "plt.legend()\n",
    "\n",
    "plt.subplot(1, 2, 2)\n",
    "plt.plot(Epochs, tr_acc, 'r', label= 'Training Accuracy')\n",
    "plt.plot(Epochs, val_acc, 'g', label= 'Validation Accuracy')\n",
    "plt.scatter(index_acc + 1 , acc_highest, c= 'blue', label= acc_label)\n",
    "plt.title('Training and Validation Accuracy')\n",
    "plt.xlabel('Epochs')\n",
    "plt.ylabel('Accuracy')\n",
    "plt.legend()\n",
    "#plt.subplot_tool()\n",
    "plt.subplots_adjust(left=0.1,\n",
    "                    bottom=0.1,\n",
    "                    right=0.9,\n",
    "                    top=0.9,\n",
    "                    wspace=0.4,\n",
    "                    hspace=0.4)\n",
    "#plt.tight_layout(pad=20.0)\n",
    "plt.show()"
   ]
  },
  {
   "cell_type": "code",
   "execution_count": null,
   "id": "cae747d2",
   "metadata": {},
   "outputs": [],
   "source": []
  },
  {
   "cell_type": "code",
   "execution_count": null,
   "id": "e8507687",
   "metadata": {},
   "outputs": [],
   "source": []
  },
  {
   "cell_type": "code",
   "execution_count": null,
   "id": "c92586fc",
   "metadata": {},
   "outputs": [],
   "source": []
  }
 ],
 "metadata": {
  "kernelspec": {
   "display_name": "Python 3 (ipykernel)",
   "language": "python",
   "name": "python3"
  },
  "language_info": {
   "codemirror_mode": {
    "name": "ipython",
    "version": 3
   },
   "file_extension": ".py",
   "mimetype": "text/x-python",
   "name": "python",
   "nbconvert_exporter": "python",
   "pygments_lexer": "ipython3",
   "version": "3.7.9"
  }
 },
 "nbformat": 4,
 "nbformat_minor": 5
}
