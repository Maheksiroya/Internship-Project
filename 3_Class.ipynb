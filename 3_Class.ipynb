{
 "cells": [
  {
   "cell_type": "code",
   "execution_count": 1,
   "metadata": {
    "id": "zPoduHPzY8gn"
   },
   "outputs": [],
   "source": [
    "import os\n",
    "import tensorflow as tf\n",
    "import numpy as np\n",
    "import pandas as pd\n",
    "\n",
    "from sklearn.model_selection import train_test_split\n",
    "\n",
    "from tensorflow.keras.preprocessing.image import ImageDataGenerator\n",
    "from tensorflow.keras.models import Sequential\n",
    "from tensorflow.keras.layers import Dense, Flatten, Dropout,Conv2D,MaxPooling2D\n",
    "from tensorflow.keras.applications import InceptionV3\n",
    "from tensorflow.keras.optimizers import Adam\n",
    "\n",
    "from keras.layers import GlobalAveragePooling2D"
   ]
  },
  {
   "cell_type": "code",
   "execution_count": 2,
   "metadata": {
    "colab": {
     "base_uri": "https://localhost:8080/"
    },
    "id": "Nx3679RWZCmE",
    "outputId": "6fb2b5d5-6534-4679-f451-e8b309bcf961"
   },
   "outputs": [
    {
     "name": "stdout",
     "output_type": "stream",
     "text": [
      "['Die Back', 'Healthy', 'Unhealthy']\n"
     ]
    }
   ],
   "source": [
    "data_dir = 'mango_1/' #Add full path to dataset\n",
    "filepaths = []\n",
    "labels = []\n",
    "\n",
    "dir_names = os.listdir(data_dir)\n",
    "print(dir_names)\n",
    "\n",
    "for dir in dir_names:\n",
    "    dir_path = os.path.join(data_dir, dir)\n",
    "    filelist = os.listdir(dir_path)\n",
    "    for file in filelist:\n",
    "        fpath = os.path.join(dir_path, file)\n",
    "        filepaths.append(fpath)\n",
    "        labels.append(dir)\n",
    "\n",
    "# Concatenate data paths with labels into one dataframe\n",
    "file_name_series = pd.Series(filepaths, name= 'filepaths')\n",
    "labels_series = pd.Series(labels, name='labels')\n",
    "df = pd.concat([file_name_series, labels_series], axis= 1)"
   ]
  },
  {
   "cell_type": "code",
   "execution_count": 3,
   "metadata": {
    "colab": {
     "base_uri": "https://localhost:8080/",
     "height": 519
    },
    "id": "U1ZCv8AxZJpj",
    "outputId": "1fb11ea1-4d86-40ec-cf4e-4e52b582d0eb"
   },
   "outputs": [
    {
     "data": {
      "text/plain": [
       "(4000, 2)"
      ]
     },
     "execution_count": 3,
     "metadata": {},
     "output_type": "execute_result"
    }
   ],
   "source": [
    "# df.to_csv('mango.csv')\n",
    "# df = pd.read_csv('mango.csv')\n",
    "df.shape"
   ]
  },
  {
   "cell_type": "code",
   "execution_count": 4,
   "metadata": {
    "colab": {
     "base_uri": "https://localhost:8080/"
    },
    "id": "oQMm4hB6ZXdJ",
    "outputId": "468cf6f7-90cb-47eb-e940-a037f5153731"
   },
   "outputs": [
    {
     "data": {
      "text/plain": [
       "((3200, 2), (400, 2), (400, 2))"
      ]
     },
     "execution_count": 4,
     "metadata": {},
     "output_type": "execute_result"
    }
   ],
   "source": [
    "train_df, dummy_df = train_test_split(df,  train_size= 0.8, shuffle= True, random_state= 123)\n",
    "valid_df, test_df = train_test_split(dummy_df,  train_size= 0.5, shuffle= True, random_state= 123)\n",
    "train_df.shape, valid_df.shape,test_df.shape"
   ]
  },
  {
   "cell_type": "code",
   "execution_count": 5,
   "metadata": {
    "id": "Y5HeyJlDZgZ8"
   },
   "outputs": [],
   "source": [
    "# Set the image dimensions and batch size\n",
    "img_width, img_height = 224, 224\n",
    "batch_size = 16\n",
    "\n",
    "# Define the data generators for the train and test sets\n",
    "tr_gen = ImageDataGenerator(\n",
    "    rescale=1./255,         # Scale the pixel values from 0-255 to 0-1\n",
    "    rotation_range=40,      # Randomly rotate the images up to 40 degrees\n",
    "    width_shift_range=0.2,  # Randomly shift the images horizontally up to 20% of the width\n",
    "    height_shift_range=0.2, # Randomly shift the images vertically up to 20% of the height\n",
    "    shear_range=0.2,       # Randomly apply shear transformations\n",
    "    zoom_range=0.2,         # Randomly zoom in on the images\n",
    "    horizontal_flip=True,   # Randomly flip the images horizontally\n",
    "    fill_mode='nearest')    # Fill any empty pixels with the nearest available pixel\n",
    "\n",
    "\n",
    "ts_gen = ImageDataGenerator(rescale=1./255)"
   ]
  },
  {
   "cell_type": "code",
   "execution_count": 6,
   "metadata": {
    "colab": {
     "base_uri": "https://localhost:8080/"
    },
    "id": "lKEOFa4gZjHy",
    "outputId": "c33a8858-a5fa-482f-e6c2-101eb4dc07ed"
   },
   "outputs": [
    {
     "name": "stdout",
     "output_type": "stream",
     "text": [
      "Found 3200 validated image filenames belonging to 3 classes.\n",
      "Found 400 validated image filenames belonging to 3 classes.\n",
      "Found 400 validated image filenames belonging to 3 classes.\n"
     ]
    }
   ],
   "source": [
    "train_gen = tr_gen.flow_from_dataframe(train_df,\n",
    "                                       x_col= 'filepaths',\n",
    "                                       y_col= 'labels',\n",
    "                                       target_size= (img_width, img_height),\n",
    "                                       class_mode= 'categorical',\n",
    "                                       color_mode= 'rgb',\n",
    "                                       shuffle= True,\n",
    "                                       batch_size= batch_size)\n",
    "\n",
    "valid_gen = ts_gen.flow_from_dataframe(valid_df,\n",
    "                                      x_col= 'filepaths',\n",
    "                                      y_col= 'labels',\n",
    "                                      target_size= (img_width, img_height),\n",
    "                                      class_mode= 'categorical',\n",
    "                                      color_mode= 'rgb',\n",
    "                                      shuffle= True,\n",
    "                                      batch_size= batch_size)\n",
    "\n",
    "test_gen = ts_gen.flow_from_dataframe(test_df,\n",
    "                                      x_col= 'filepaths',\n",
    "                                      y_col= 'labels',\n",
    "                                      target_size= (img_width, img_height),\n",
    "                                      class_mode= 'categorical',\n",
    "                                      color_mode= 'rgb',\n",
    "                                      shuffle= True,\n",
    "                                      batch_size= batch_size)\n"
   ]
  },
  {
   "cell_type": "code",
   "execution_count": 7,
   "metadata": {
    "colab": {
     "base_uri": "https://localhost:8080/"
    },
    "id": "SAOMVzpnZldJ",
    "outputId": "478d4703-9c80-4864-8b56-b9f054391afc"
   },
   "outputs": [
    {
     "name": "stdout",
     "output_type": "stream",
     "text": [
      "No GPU, using /device:CPU:0.\n"
     ]
    }
   ],
   "source": [
    "device_name = tf.test.gpu_device_name()\n",
    "if len(device_name) > 0:\n",
    "    print(\"Found GPU at: {}\".format(device_name))\n",
    "else:\n",
    "    device_name = \"/device:CPU:0\"\n",
    "    print(\"No GPU, using {}.\".format(device_name))"
   ]
  },
  {
   "cell_type": "code",
   "execution_count": 8,
   "metadata": {
    "colab": {
     "base_uri": "https://localhost:8080/"
    },
    "id": "oWqZ7ZlqZo7u",
    "outputId": "a0575c8a-2272-415a-9c7c-6dfe7762e09b"
   },
   "outputs": [],
   "source": [
    "with tf.device(device_name):\n",
    "\n",
    "    base_model = InceptionV3(\n",
    "      weights='imagenet',\n",
    "      include_top=False,\n",
    "      input_shape=(img_width, img_height, 3))\n",
    "    for layer in base_model.layers:\n",
    "      layer.trainable = False\n",
    "\n",
    "    model = Sequential()\n",
    "    model.add(base_model)\n",
    "    model.add(GlobalAveragePooling2D())\n",
    "    model.add(Dense(128, activation='relu'))\n",
    "    model.add(Dropout(0.5))\n",
    "    model.add(Dense(3, activation='softmax'))        # Create a TensorFlow model.\n",
    "\n",
    "    opt = Adam(learning_rate=0.0001)\n",
    "\n",
    "    model.compile(\n",
    "    optimizer=opt,\n",
    "    loss= \"binary_crossentropy\",\n",
    "    metrics=['accuracy'])\n",
    "    # Compile the model on the GPU.\n",
    "    # Once the model has been created and compiled on the GPU, it can be\n",
    "    # trained as per usual.\n",
    "\n",
    "from keras.callbacks import EarlyStopping\n",
    "early_stop = EarlyStopping(patience=10, verbose=1)"
   ]
  },
  {
   "cell_type": "code",
   "execution_count": 9,
   "metadata": {
    "colab": {
     "base_uri": "https://localhost:8080/"
    },
    "id": "oquVFDx24Jz3",
    "outputId": "2b41f016-81bc-4f1e-846f-9163e53f80ea"
   },
   "outputs": [
    {
     "name": "stdout",
     "output_type": "stream",
     "text": [
      "Model: \"sequential\"\n",
      "_________________________________________________________________\n",
      " Layer (type)                Output Shape              Param #   \n",
      "=================================================================\n",
      " inception_v3 (Functional)   (None, 5, 5, 2048)        21802784  \n",
      "                                                                 \n",
      " global_average_pooling2d (G  (None, 2048)             0         \n",
      " lobalAveragePooling2D)                                          \n",
      "                                                                 \n",
      " dense (Dense)               (None, 128)               262272    \n",
      "                                                                 \n",
      " dropout (Dropout)           (None, 128)               0         \n",
      "                                                                 \n",
      " dense_1 (Dense)             (None, 3)                 387       \n",
      "                                                                 \n",
      "=================================================================\n",
      "Total params: 22,065,443\n",
      "Trainable params: 262,659\n",
      "Non-trainable params: 21,802,784\n",
      "_________________________________________________________________\n"
     ]
    }
   ],
   "source": [
    "model.summary()"
   ]
  },
  {
   "cell_type": "code",
   "execution_count": 12,
   "metadata": {
    "colab": {
     "base_uri": "https://localhost:8080/"
    },
    "id": "Zt3DU20oZr7p",
    "outputId": "25d9d505-edc4-486e-cc8f-7998386e42ed"
   },
   "outputs": [
    {
     "name": "stdout",
     "output_type": "stream",
     "text": [
      "Epoch 1/30\n",
      "200/200 [==============================] - 566s 3s/step - loss: 0.2536 - accuracy: 0.8641 - val_loss: 0.1252 - val_accuracy: 0.9425\n",
      "Epoch 2/30\n",
      "200/200 [==============================] - 586s 3s/step - loss: 0.1425 - accuracy: 0.9306 - val_loss: 0.0971 - val_accuracy: 0.9500\n",
      "Epoch 3/30\n",
      "200/200 [==============================] - 490s 2s/step - loss: 0.1101 - accuracy: 0.9459 - val_loss: 0.0670 - val_accuracy: 0.9650\n",
      "Epoch 4/30\n",
      "200/200 [==============================] - 521s 3s/step - loss: 0.0925 - accuracy: 0.9538 - val_loss: 0.0538 - val_accuracy: 0.9725\n",
      "Epoch 5/30\n",
      "200/200 [==============================] - 518s 3s/step - loss: 0.0814 - accuracy: 0.9609 - val_loss: 0.0492 - val_accuracy: 0.9750\n",
      "Epoch 6/30\n",
      "200/200 [==============================] - 388s 2s/step - loss: 0.0690 - accuracy: 0.9631 - val_loss: 0.0415 - val_accuracy: 0.9725\n",
      "Epoch 7/30\n",
      "200/200 [==============================] - 373s 2s/step - loss: 0.0674 - accuracy: 0.9650 - val_loss: 0.0390 - val_accuracy: 0.9775\n",
      "Epoch 8/30\n",
      "200/200 [==============================] - 301s 2s/step - loss: 0.0547 - accuracy: 0.9744 - val_loss: 0.0367 - val_accuracy: 0.9850\n",
      "Epoch 9/30\n",
      "200/200 [==============================] - 268s 1s/step - loss: 0.0619 - accuracy: 0.9666 - val_loss: 0.0321 - val_accuracy: 0.9775\n",
      "Epoch 10/30\n",
      "200/200 [==============================] - 257s 1s/step - loss: 0.0523 - accuracy: 0.9728 - val_loss: 0.0278 - val_accuracy: 0.9900\n",
      "Epoch 11/30\n",
      "200/200 [==============================] - 257s 1s/step - loss: 0.0451 - accuracy: 0.9806 - val_loss: 0.0266 - val_accuracy: 0.9900\n",
      "Epoch 12/30\n",
      "200/200 [==============================] - 256s 1s/step - loss: 0.0476 - accuracy: 0.9766 - val_loss: 0.0239 - val_accuracy: 0.9925\n",
      "Epoch 13/30\n",
      "200/200 [==============================] - 235s 1s/step - loss: 0.0452 - accuracy: 0.9787 - val_loss: 0.0254 - val_accuracy: 0.9950\n",
      "Epoch 14/30\n",
      "200/200 [==============================] - 222s 1s/step - loss: 0.0468 - accuracy: 0.9734 - val_loss: 0.0266 - val_accuracy: 0.9850\n",
      "Epoch 15/30\n",
      "200/200 [==============================] - 211s 1s/step - loss: 0.0407 - accuracy: 0.9791 - val_loss: 0.0209 - val_accuracy: 0.9950\n",
      "Epoch 16/30\n",
      "200/200 [==============================] - 199s 993ms/step - loss: 0.0360 - accuracy: 0.9828 - val_loss: 0.0246 - val_accuracy: 0.9875\n",
      "Epoch 17/30\n",
      "200/200 [==============================] - 195s 976ms/step - loss: 0.0404 - accuracy: 0.9806 - val_loss: 0.0217 - val_accuracy: 0.9900\n",
      "Epoch 18/30\n",
      "200/200 [==============================] - 197s 983ms/step - loss: 0.0449 - accuracy: 0.9766 - val_loss: 0.0190 - val_accuracy: 0.9950\n",
      "Epoch 19/30\n",
      "200/200 [==============================] - 199s 993ms/step - loss: 0.0328 - accuracy: 0.9841 - val_loss: 0.0213 - val_accuracy: 0.9925\n",
      "Epoch 20/30\n",
      "200/200 [==============================] - 196s 979ms/step - loss: 0.0374 - accuracy: 0.9812 - val_loss: 0.0170 - val_accuracy: 0.9975\n",
      "Epoch 21/30\n",
      "200/200 [==============================] - 206s 1s/step - loss: 0.0362 - accuracy: 0.9828 - val_loss: 0.0163 - val_accuracy: 0.9975\n",
      "Epoch 22/30\n",
      "200/200 [==============================] - 233s 1s/step - loss: 0.0294 - accuracy: 0.9866 - val_loss: 0.0211 - val_accuracy: 0.9875\n",
      "Epoch 23/30\n",
      "200/200 [==============================] - 230s 1s/step - loss: 0.0313 - accuracy: 0.9850 - val_loss: 0.0188 - val_accuracy: 0.9875\n",
      "Epoch 24/30\n",
      "200/200 [==============================] - 228s 1s/step - loss: 0.0269 - accuracy: 0.9891 - val_loss: 0.0137 - val_accuracy: 1.0000\n",
      "Epoch 25/30\n",
      "200/200 [==============================] - 225s 1s/step - loss: 0.0289 - accuracy: 0.9856 - val_loss: 0.0164 - val_accuracy: 0.9975\n",
      "Epoch 26/30\n",
      "200/200 [==============================] - 197s 982ms/step - loss: 0.0314 - accuracy: 0.9837 - val_loss: 0.0173 - val_accuracy: 0.9975\n",
      "Epoch 27/30\n",
      "200/200 [==============================] - 197s 982ms/step - loss: 0.0297 - accuracy: 0.9853 - val_loss: 0.0131 - val_accuracy: 0.9975\n",
      "Epoch 28/30\n",
      "200/200 [==============================] - 198s 991ms/step - loss: 0.0292 - accuracy: 0.9841 - val_loss: 0.0140 - val_accuracy: 0.9975\n",
      "Epoch 29/30\n",
      "200/200 [==============================] - 197s 986ms/step - loss: 0.0297 - accuracy: 0.9831 - val_loss: 0.0216 - val_accuracy: 0.9950\n",
      "Epoch 30/30\n",
      "200/200 [==============================] - 198s 987ms/step - loss: 0.0229 - accuracy: 0.9881 - val_loss: 0.0149 - val_accuracy: 0.9950\n",
      "Wall time: 2h 22min 28s\n"
     ]
    }
   ],
   "source": [
    "%%time\n",
    "history = model.fit(\n",
    "    train_gen,\n",
    "    epochs=30,\n",
    "    validation_data=test_gen,\n",
    "    callbacks=[early_stop],\n",
    "    verbose=1)"
   ]
  },
  {
   "cell_type": "code",
   "execution_count": 13,
   "metadata": {
    "colab": {
     "base_uri": "https://localhost:8080/"
    },
    "id": "UtCc7mAMtC14",
    "outputId": "c11518d9-9072-4403-f45f-1350affdd24e"
   },
   "outputs": [
    {
     "name": "stdout",
     "output_type": "stream",
     "text": [
      "200/200 [==============================] - 179s 890ms/step - loss: 0.0202 - accuracy: 0.9922\n",
      "Train accuracy: 0.9921875\n",
      "25/25 [==============================] - 20s 785ms/step - loss: 0.0078 - accuracy: 0.9975\n",
      "Valid accuracy: 0.9975000023841858\n",
      "25/25 [==============================] - 18s 703ms/step - loss: 0.0149 - accuracy: 0.9950\n",
      "Test accuracy: 0.9950000047683716\n"
     ]
    }
   ],
   "source": [
    "loss, accuracy = model.evaluate(train_gen)\n",
    "print('Train accuracy:', accuracy)\n",
    "loss, accuracy = model.evaluate(valid_gen)\n",
    "print(\"Valid accuracy:\", accuracy)\n",
    "loss, accuracy = model.evaluate(test_gen)\n",
    "print('Test accuracy:', accuracy)\n"
   ]
  },
  {
   "cell_type": "code",
   "execution_count": 14,
   "metadata": {
    "colab": {
     "base_uri": "https://localhost:8080/",
     "height": 377
    },
    "id": "C4c2oZEk6OMj",
    "outputId": "cff2e0b7-1231-4264-d0f0-d81248a153cd"
   },
   "outputs": [
    {
     "data": {
      "image/png": "[encoded data removed]",
      "text/plain": [
       "<Figure size 1200x400 with 2 Axes>"
      ]
     },
     "metadata": {},
     "output_type": "display_data"
    },
    {
     "name": "stdout",
     "output_type": "stream",
     "text": [
      "Wall time: 2.24 s\n"
     ]
    }
   ],
   "source": [
    "%%time\n",
    "import matplotlib.pyplot as plt\n",
    "\n",
    "tr_acc = history.history['accuracy']\n",
    "tr_loss = history.history['loss']\n",
    "val_acc = history.history['val_accuracy']\n",
    "val_loss = history.history['val_loss']\n",
    "index_loss = np.argmin(val_loss)\n",
    "val_lowest = val_loss[index_loss]\n",
    "index_acc = np.argmax(val_acc)\n",
    "acc_highest = val_acc[index_acc]\n",
    "Epochs = [i+1 for i in range(len(tr_acc))]\n",
    "loss_label = f'best epoch= {str(index_loss + 1)}'\n",
    "acc_label = f'best epoch= {str(index_acc + 1)}'\n",
    "\n",
    "# Plot training history\n",
    "plt.figure(figsize= (12, 4))\n",
    "#plt.style.use('fivethirtyeight')\n",
    "\n",
    "plt.subplot(1, 2, 1)\n",
    "plt.plot(Epochs, tr_loss, 'r', label= 'Training loss')\n",
    "plt.plot(Epochs, val_loss, 'g', label= 'Validation loss')\n",
    "plt.scatter(index_loss + 1, val_lowest,  c= 'blue', label= loss_label)\n",
    "plt.title('Training and Validation Loss')\n",
    "plt.xlabel('Epochs')\n",
    "plt.ylabel('Loss')\n",
    "plt.legend()\n",
    "\n",
    "plt.subplot(1, 2, 2)\n",
    "plt.plot(Epochs, tr_acc, 'r', label= 'Training Accuracy')\n",
    "plt.plot(Epochs, val_acc, 'g', label= 'Validation Accuracy')\n",
    "plt.scatter(index_acc + 1 , acc_highest, c= 'blue', label= acc_label)\n",
    "plt.title('Training and Validation Accuracy')\n",
    "plt.xlabel('Epochs')\n",
    "plt.ylabel('Accuracy')\n",
    "plt.legend()\n",
    "#plt.subplot_tool()\n",
    "plt.subplots_adjust(left=0.1,\n",
    "                    bottom=0.1,\n",
    "                    right=0.9,\n",
    "                    top=0.9,\n",
    "                    wspace=0.4,\n",
    "                    hspace=0.4)\n",
    "#plt.tight_layout(pad=20.0)\n",
    "plt.show()"
   ]
  }
 ],
 "metadata": {
  "accelerator": "GPU",
  "colab": {
   "gpuType": "T4",
   "provenance": []
  },
  "kernelspec": {
   "display_name": "Python 3 (ipykernel)",
   "language": "python",
   "name": "python3"
  },
  "language_info": {
   "codemirror_mode": {
    "name": "ipython",
    "version": 3
   },
   "file_extension": ".py",
   "mimetype": "text/x-python",
   "name": "python",
   "nbconvert_exporter": "python",
   "pygments_lexer": "ipython3",
   "version": "3.11.4"
  }
 },
 "nbformat": 4,
 "nbformat_minor": 1
}
